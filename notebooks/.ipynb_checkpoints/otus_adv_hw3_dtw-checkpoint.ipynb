{
 "cells": [
  {
   "cell_type": "code",
   "execution_count": 1,
   "id": "c54f05a9",
   "metadata": {
    "ExecuteTime": {
     "end_time": "2022-01-24T10:17:07.562711Z",
     "start_time": "2022-01-24T10:17:07.560812Z"
    }
   },
   "outputs": [],
   "source": [
    "# -*- coding: utf-8 -*-\n",
    "#  File: otus_adv_hw1_automl_atom.ipynb\n",
    "#  Project: 'OTUS.ADV Homework #1'\n",
    "#  Created by Gennady Matveev (gm@og.ly) on 06-01-2022."
   ]
  },
  {
   "cell_type": "markdown",
   "id": "21bb5510",
   "metadata": {
    "ExecuteTime": {
     "end_time": "2022-01-02T13:46:23.992038Z",
     "start_time": "2022-01-02T13:46:23.986201Z"
    }
   },
   "source": [
    "# **$Homework$** **$3$**  \n",
    "**OTUS Machine Learning Advanced**"
   ]
  },
  {
   "cell_type": "markdown",
   "id": "6e5e2919",
   "metadata": {},
   "source": [
    "### Time series clustering"
   ]
  },
  {
   "cell_type": "markdown",
   "id": "085b891c",
   "metadata": {},
   "source": [
    "![AutoML](https://docs.google.com/uc?export=download&id=1kP52pViswEsaHNrJUuCUxwXng4oBY3Cu)\n",
    "<!-- https://drive.google.com/file/d/1kP52pViswEsaHNrJUuCUxwXng4oBY3Cu/view?usp=sharing -->"
   ]
  },
  {
   "cell_type": "markdown",
   "id": "108e7eaf",
   "metadata": {},
   "source": [
    "Apply clustering algorithms to multiple time series (TS):\n",
    "- A list of cryptocurrencies (CC), including Bitcoin (~100)\n",
    "    - 30 days of closing prices\n",
    "    - 3 days hourly closing prices\n",
    "    - 1 hour minute closing prices\n",
    "- Compare KNN (or similar) and DTW approaches;\n",
    "- Try TS clustering after automatic feature generation with TSFEL;\n",
    "- Analyze composition of clusters without Bitcoin.\n",
    "\n",
    "**Additional goals:**  \n",
    "\n",
    "- Build risk profile for CC portfolios from one cluster and from\n",
    "different clusters;\n",
    "- Apply Matrix Profile methods from [matrixprofile](https://github.com/matrix-profile-foundation/matrixprofile) library to find repeated motifs and discords (anomalies) on CC from various clusters.\n",
    "\n",
    "\n",
    "**Means:**  \n",
    "\n",
    "All preprocessing and pipelines management will be done in [ATOM](https://tvdboom.github.io/ATOM/).\n",
    "\n",
    "**Data:**  \n",
    "\n",
    "- CC prices will be downloaded with [cryptocompare](https://github.com/lagerfeuer/cryptocompare) library.\n",
    "\n",
    "**Choice of models:**  \n",
    "\n",
    "\n",
    "\n",
    "**Methodology:**  \n"
   ]
  },
  {
   "cell_type": "markdown",
   "id": "fa867b15",
   "metadata": {
    "ExecuteTime": {
     "end_time": "2022-01-02T13:47:36.147285Z",
     "start_time": "2022-01-02T13:47:36.137987Z"
    }
   },
   "source": [
    "Goals:   \n",
    "\n",
    "Apply clustering algorithms to multiple time series (TS):\n",
    "- A list of cryptocurrencies (CC), including Bitcoin (~100)\n",
    "    - 30 days of closing prices\n",
    "    - 3 days hourly closing prices\n",
    "    - 1 hour minute closing prices\n",
    "- Compare KNN (or similar) and DTW approaches;\n",
    "- Analyze composition of clusters without Bitcoin."
   ]
  },
  {
   "cell_type": "markdown",
   "id": "1768a585",
   "metadata": {
    "ExecuteTime": {
     "end_time": "2022-01-02T13:48:58.411397Z",
     "start_time": "2022-01-02T13:48:58.305933Z"
    }
   },
   "source": [
    "Means:  \n",
    "- All preprocessing and pipelines management will be done in [ATOM](https://tvdboom.github.io/ATOM/)."
   ]
  },
  {
   "cell_type": "markdown",
   "id": "b1cfb815",
   "metadata": {},
   "source": [
    "Data:\n",
    "- CC prices will be downloaded with [cryptocompare](https://github.com/lagerfeuer/cryptocompare) library."
   ]
  },
  {
   "cell_type": "markdown",
   "id": "5af932fb",
   "metadata": {},
   "source": [
    "#### ATOM library provides convenient wrappers for TPOT and DFS/GFG feature generation methods along with several feature selection approaches, including RFECV."
   ]
  },
  {
   "cell_type": "markdown",
   "id": "2741da68",
   "metadata": {},
   "source": [
    "Abbreviations:\n",
    "- TS: time series\n",
    "- CC: cryptocurrency\n",
    "- DTW: dynamic time warping\n",
    "- FE: feature engineering\n",
    "- H/P: hyperparameters"
   ]
  },
  {
   "cell_type": "markdown",
   "id": "c9d30184",
   "metadata": {},
   "source": [
    "<a href=\"https://colab.research.google.com/github/oort77/OTUS_ADV_HW1/blob/main/notebooks/otus_adv_hw3_dtw.ipynb\" target=\"_parent\"><img src=\"https://colab.research.google.com/assets/colab-badge.svg\" alt=\"Open In Colab\"/></a>"
   ]
  },
  {
   "cell_type": "markdown",
   "id": "f0d57936",
   "metadata": {},
   "source": [
    "### Google colab specific part"
   ]
  },
  {
   "cell_type": "markdown",
   "id": "114f988d",
   "metadata": {},
   "source": [
    "<!-- Typical runtime on Colab is several hours unless you set **max_time_mins** of atom.automl in **_Create AutoML model with DFS_** section to lower value.  \n",
    "\n",
    "Note that this notebook runs on 20% of data by default. This can be changed in **_Take part of data_** section: either change rand_part value to set a desired percentage of data to use or set partial = 0 to run on full data.\n",
    "\n",
    "Please uncomment below to install the notebook dependencies.\n",
    "\n",
    "Dependencies installation requires restart of runtime. -->"
   ]
  },
  {
   "cell_type": "code",
   "execution_count": 146,
   "id": "a03f73ee",
   "metadata": {
    "ExecuteTime": {
     "end_time": "2022-01-24T10:17:07.660198Z",
     "start_time": "2022-01-24T10:17:07.563926Z"
    }
   },
   "outputs": [
    {
     "data": {
      "text/plain": [
       "302"
      ]
     },
     "execution_count": 146,
     "metadata": {},
     "output_type": "execute_result"
    }
   ],
   "source": [
    "# !pip install -r 'https://drive.google.com/uc?export=download&id=1VmHDlGXo1IMHZ2kAT5IW4r4suWAfmiXs'"
   ]
  },
  {
   "cell_type": "markdown",
   "id": "e72253ae",
   "metadata": {
    "ExecuteTime": {
     "end_time": "2022-01-02T13:55:42.779148Z",
     "start_time": "2022-01-02T13:55:42.775713Z"
    }
   },
   "source": [
    "### Import libraries and setup notebook"
   ]
  },
  {
   "cell_type": "code",
   "execution_count": 29,
   "id": "98da7bb2",
   "metadata": {
    "ExecuteTime": {
     "end_time": "2022-01-24T10:17:09.563528Z",
     "start_time": "2022-01-24T10:17:07.664048Z"
    }
   },
   "outputs": [],
   "source": [
    "import os\n",
    "import pandas as pd\n",
    "import numpy as np\n",
    "from atom import ATOMClassifier #, ATOMLoader\n",
    "from sklearn.preprocessing import StandardScaler, \\\n",
    "                    RobustScaler, FunctionTransformer\n",
    "\n",
    "import cryptocompare as cc\n",
    "import requests\n",
    "\n",
    "import matplotlib.pyplot as plt\n",
    "import seaborn as sns\n",
    "\n",
    "import re\n",
    "import gdown\n",
    "import random\n",
    "import shutil\n",
    "import warnings\n",
    "from IPython.core.display import display, HTML"
   ]
  },
  {
   "cell_type": "markdown",
   "id": "b1e9a5dd",
   "metadata": {},
   "source": [
    "#### Miscellaneius settings "
   ]
  },
  {
   "cell_type": "code",
   "execution_count": 4,
   "id": "05f75f48",
   "metadata": {
    "ExecuteTime": {
     "end_time": "2022-01-24T10:17:09.570749Z",
     "start_time": "2022-01-24T10:17:09.564556Z"
    }
   },
   "outputs": [
    {
     "data": {
      "text/html": [
       "<style>.container { width:80% !important; }</style>"
      ],
      "text/plain": [
       "<IPython.core.display.HTML object>"
      ]
     },
     "metadata": {},
     "output_type": "display_data"
    }
   ],
   "source": [
    "%matplotlib inline\n",
    "display(HTML(\"<style>.container { width:80% !important; }</style>\"))\n",
    "%config InlineBackend.figure_format = 'retina'\n",
    "plt.rcParams['figure.figsize']=(10,5)\n",
    "sns.set(rc = {'figure.figsize':(8,5)})\n",
    "warnings.filterwarnings(\"ignore\")\n",
    "pd.options.display.precision = 4"
   ]
  },
  {
   "cell_type": "markdown",
   "id": "21f223e6",
   "metadata": {},
   "source": [
    "#### ML parameters"
   ]
  },
  {
   "cell_type": "code",
   "execution_count": 6,
   "id": "45a2a084",
   "metadata": {
    "ExecuteTime": {
     "end_time": "2022-01-24T10:17:09.640384Z",
     "start_time": "2022-01-24T10:17:09.572096Z"
    }
   },
   "outputs": [],
   "source": [
    "random_state = 17\n",
    "n_jobs = -1 # Try 2 on Colab\n",
    "models = [\"LR0\", \"RF0\", \"LGB0\"] \n",
    "metric = [\"F1_weighted\", \"logloss\", \"BA\", \"precision_weighted\"]"
   ]
  },
  {
   "cell_type": "markdown",
   "id": "91ebd30d",
   "metadata": {},
   "source": [
    "#### Parameters of BO"
   ]
  },
  {
   "cell_type": "code",
   "execution_count": 7,
   "id": "3183a4fe",
   "metadata": {
    "ExecuteTime": {
     "end_time": "2022-01-24T10:17:09.740770Z",
     "start_time": "2022-01-24T10:17:09.642043Z"
    }
   },
   "outputs": [],
   "source": [
    "n_calls = 32\n",
    "n_initial_points = 32"
   ]
  },
  {
   "cell_type": "markdown",
   "id": "3cabfc54",
   "metadata": {},
   "source": [
    "#### Parameters of DFS and RFECV"
   ]
  },
  {
   "cell_type": "code",
   "execution_count": 8,
   "id": "d04cf07c",
   "metadata": {
    "ExecuteTime": {
     "end_time": "2022-01-24T10:17:09.819254Z",
     "start_time": "2022-01-24T10:17:09.744755Z"
    }
   },
   "outputs": [],
   "source": [
    "n_features_dfs = 64\n",
    "n_features_rfecv = 32"
   ]
  },
  {
   "cell_type": "markdown",
   "id": "e376d85d",
   "metadata": {},
   "source": [
    "#### Helper function"
   ]
  },
  {
   "cell_type": "code",
   "execution_count": 9,
   "id": "592d78c2",
   "metadata": {
    "ExecuteTime": {
     "end_time": "2022-01-24T10:17:09.970881Z",
     "start_time": "2022-01-24T10:17:09.893593Z"
    }
   },
   "outputs": [],
   "source": [
    "def nice_metric_table(df: pd.DataFrame, metric: list) -> pd.DataFrame:\n",
    "    df1 = pd.DataFrame()\n",
    "    for col in df.columns:\n",
    "        if col.startswith(\"time\"):\n",
    "            df.drop(columns=col, inplace=True)\n",
    "    for c in df.columns:\n",
    "        df1 = pd.concat([df1, pd.DataFrame([pd.Series(x)\n",
    "                        for x in df[c]])], axis=1)\n",
    "    cols = [(init, metr) for init in df.columns for metr in metric]\n",
    "    df1.columns = pd.MultiIndex.from_tuples(cols)\n",
    "    df1.index = df.index\n",
    "    return df1"
   ]
  },
  {
   "cell_type": "markdown",
   "id": "20d2cda1",
   "metadata": {},
   "source": [
    "### Load data"
   ]
  },
  {
   "cell_type": "markdown",
   "id": "5985328a",
   "metadata": {},
   "source": [
    "#### Set up cryptocompare API"
   ]
  },
  {
   "cell_type": "code",
   "execution_count": 5,
   "id": "6aa3519b",
   "metadata": {},
   "outputs": [
    {
     "data": {
      "text/plain": [
       "'&api_key=5db769e8ae211fc8c106e10623db6384dc64db9c26b2a2df708f8d1b53f99f92'"
      ]
     },
     "execution_count": 5,
     "metadata": {},
     "output_type": "execute_result"
    }
   ],
   "source": [
    "cc.cryptocompare._set_api_key_parameter(\"5db769e8ae211fc8c106e10623db6384dc64db9c26b2a2df708f8d1b53f99f92\")"
   ]
  },
  {
   "cell_type": "markdown",
   "id": "828db48c",
   "metadata": {},
   "source": [
    "#### Utility functions for cryptocompare downloads"
   ]
  },
  {
   "cell_type": "code",
   "execution_count": 142,
   "id": "dc77626d",
   "metadata": {},
   "outputs": [],
   "source": [
    "def get_price(ticker: str, time_interval: str, limit: int):\n",
    "    if time_interval == \"day\":\n",
    "        result = cc.get_historical_price_day(ticker, currency=\"USD\", limit=limit) # exchange=\"Kraken\",\n",
    "    elif time_interval == \"hour\":\n",
    "        result = cc.get_historical_price_hour(ticker, currency=\"USD\", limit=limit)\n",
    "    elif time_interval == \"minute\":\n",
    "        result = cc.get_historical_price_minute(ticker, currency=\"USD\", limit=limit)\n",
    "    else:\n",
    "        print(\"Please check your time_interval input\")\n",
    "    return result"
   ]
  },
  {
   "cell_type": "code",
   "execution_count": 143,
   "id": "762f3b23",
   "metadata": {},
   "outputs": [],
   "source": [
    "def get_all_cc(time_interval: str, limit: int):\n",
    "    df = pd.DataFrame(index=range(limit))\n",
    "    for tick in tickers:\n",
    "        print(tick, end=\"\\t\")\n",
    "        try:\n",
    "            d = get_price(tick,time_interval, limit)\n",
    "            one_cc = pd.DataFrame.from_dict(d)[\"close\"]\n",
    "            one_cc.rename(index=tick, inplace=True)\n",
    "            df = pd.concat([df, one_cc], axis=1)#,ignore_index=True)\n",
    "            print(\"OK\")\n",
    "        except:\n",
    "            print(f\"{tick} passed\")\n",
    "#     df.columns = tickers\n",
    "    return df"
   ]
  },
  {
   "cell_type": "markdown",
   "id": "2d410e26",
   "metadata": {},
   "source": [
    "#### Download data, top-100 CC by market cap"
   ]
  },
  {
   "cell_type": "code",
   "execution_count": 147,
   "id": "1d492c0e",
   "metadata": {},
   "outputs": [],
   "source": [
    "# Download data from Google Drive\n",
    "if os.path.isdir(\"../data\") == False:\n",
    "    !mkdir ../data\n",
    "\n",
    "url_arch = \"https://drive.google.com/uc?export=download&id=1XCOhxPfRDp6SxMyPwPO1nse3MI2vOFvP\"\n",
    "headers = { 'User-Agent': 'Mozilla/5.0 (Windows NT 6.1; WOW64) AppleWebKit/537.36 (KHTML, like Gecko) Chrome/32.0.1700.107 Safari/537.36' }\n",
    "\n",
    "    # Download, if necessary\n",
    "if not os.path.exists(\"../data/Archive.zip\"):\n",
    "    # Check if data archive is still in Google Drive\n",
    "    if requests.head(url_arch, headers=headers).status_code in [200, 302]:\n",
    "        gdown.download(url_arch, output=\"../data/Archive.zip\")\n",
    "        shutil.unpack_archive(\"../data/Archive.zip\", \"../data\")\n",
    "    # If not, get data from cryptocompare.com\n",
    "    else:\n",
    "        data_day = get_all_cc(\"day\", 30)\n",
    "        data_hour = get_all_cc(\"hour\", 72)\n",
    "        data_minute = get_all_cc(\"minute\", 60)\n",
    "# Extract data from existing pickles\n",
    "else:\n",
    "    with open(\"../data/data_day.pickle\",\"rb\") as f:\n",
    "        data_day = pickle.load(f)\n",
    "    with open(\"../data/data_hour.pickle\",\"rb\") as f:\n",
    "        data_hour = pickle.load(f)\n",
    "    with open(\"../data/data_minute.pickle\",\"rb\") as f:\n",
    "        data_minute = pickle.load(f)"
   ]
  },
  {
   "cell_type": "code",
   "execution_count": 148,
   "id": "49aa57b0",
   "metadata": {},
   "outputs": [],
   "source": [
    "# Check CC list dataframe   \n",
    "if not os.path.exists(\"../data/cryptocurrencies.pickle\"):\n",
    "    cc_url = \"https://drive.google.com/uc?export=download&id=1Q09m-PfvhiBZ75lwXaHtafsajmXPW3WD\"\n",
    "    gdown.download(cc_url, output=\"../data/cryptocurrencies.pickle\")\n",
    "with open(\"../data/cryptocurrencies.pickle\", \"rb\") as f:\n",
    "    ccs = pickle.load(f)\n",
    "tickers = ccs[\"ticker\"].to_list()"
   ]
  },
  {
   "cell_type": "code",
   "execution_count": 149,
   "id": "0f0047f4",
   "metadata": {},
   "outputs": [
    {
     "data": {
      "text/html": [
       "<div>\n",
       "<style scoped>\n",
       "    .dataframe tbody tr th:only-of-type {\n",
       "        vertical-align: middle;\n",
       "    }\n",
       "\n",
       "    .dataframe tbody tr th {\n",
       "        vertical-align: top;\n",
       "    }\n",
       "\n",
       "    .dataframe thead th {\n",
       "        text-align: right;\n",
       "    }\n",
       "</style>\n",
       "<table border=\"1\" class=\"dataframe\">\n",
       "  <thead>\n",
       "    <tr style=\"text-align: right;\">\n",
       "      <th></th>\n",
       "      <th>BTC</th>\n",
       "      <th>ETH</th>\n",
       "      <th>XRP</th>\n",
       "      <th>USDT</th>\n",
       "      <th>BNB</th>\n",
       "      <th>SOL</th>\n",
       "      <th>USDC</th>\n",
       "      <th>LUNA</th>\n",
       "      <th>ADA</th>\n",
       "      <th>AVAX</th>\n",
       "      <th>...</th>\n",
       "      <th>FXS</th>\n",
       "      <th>HT</th>\n",
       "      <th>CHZ</th>\n",
       "      <th>ENJ</th>\n",
       "      <th>JASMY</th>\n",
       "      <th>ENS</th>\n",
       "      <th>XCH</th>\n",
       "      <th>DFI</th>\n",
       "      <th>BSV</th>\n",
       "      <th>ANC</th>\n",
       "    </tr>\n",
       "  </thead>\n",
       "  <tbody>\n",
       "    <tr>\n",
       "      <th>0</th>\n",
       "      <td>42743.03</td>\n",
       "      <td>3240.32</td>\n",
       "      <td>0.7703</td>\n",
       "      <td>1.001</td>\n",
       "      <td>463.38</td>\n",
       "      <td>140.25</td>\n",
       "      <td>1.0000</td>\n",
       "      <td>73.51</td>\n",
       "      <td>1.188</td>\n",
       "      <td>89.64</td>\n",
       "      <td>...</td>\n",
       "      <td>0.0</td>\n",
       "      <td>9.403</td>\n",
       "      <td>0.2641</td>\n",
       "      <td>2.317</td>\n",
       "      <td>0.0708</td>\n",
       "      <td>26.75</td>\n",
       "      <td>88.52</td>\n",
       "      <td>2.618</td>\n",
       "      <td>110.19</td>\n",
       "      <td>2.592</td>\n",
       "    </tr>\n",
       "    <tr>\n",
       "      <th>1</th>\n",
       "      <td>43919.67</td>\n",
       "      <td>3373.03</td>\n",
       "      <td>0.7989</td>\n",
       "      <td>1.000</td>\n",
       "      <td>487.51</td>\n",
       "      <td>151.51</td>\n",
       "      <td>1.0000</td>\n",
       "      <td>81.91</td>\n",
       "      <td>1.312</td>\n",
       "      <td>96.02</td>\n",
       "      <td>...</td>\n",
       "      <td>0.0</td>\n",
       "      <td>9.509</td>\n",
       "      <td>0.2775</td>\n",
       "      <td>2.521</td>\n",
       "      <td>0.0730</td>\n",
       "      <td>27.99</td>\n",
       "      <td>95.48</td>\n",
       "      <td>2.994</td>\n",
       "      <td>112.83</td>\n",
       "      <td>2.704</td>\n",
       "    </tr>\n",
       "    <tr>\n",
       "      <th>2</th>\n",
       "      <td>42575.61</td>\n",
       "      <td>3242.26</td>\n",
       "      <td>0.7678</td>\n",
       "      <td>1.000</td>\n",
       "      <td>475.57</td>\n",
       "      <td>146.20</td>\n",
       "      <td>1.0000</td>\n",
       "      <td>78.36</td>\n",
       "      <td>1.233</td>\n",
       "      <td>89.76</td>\n",
       "      <td>...</td>\n",
       "      <td>0.0</td>\n",
       "      <td>9.511</td>\n",
       "      <td>0.2637</td>\n",
       "      <td>2.374</td>\n",
       "      <td>0.0695</td>\n",
       "      <td>25.69</td>\n",
       "      <td>92.94</td>\n",
       "      <td>2.971</td>\n",
       "      <td>109.33</td>\n",
       "      <td>2.600</td>\n",
       "    </tr>\n",
       "    <tr>\n",
       "      <th>3</th>\n",
       "      <td>43089.83</td>\n",
       "      <td>3309.66</td>\n",
       "      <td>0.7734</td>\n",
       "      <td>1.001</td>\n",
       "      <td>490.36</td>\n",
       "      <td>146.18</td>\n",
       "      <td>1.0000</td>\n",
       "      <td>81.45</td>\n",
       "      <td>1.293</td>\n",
       "      <td>90.40</td>\n",
       "      <td>...</td>\n",
       "      <td>0.0</td>\n",
       "      <td>9.855</td>\n",
       "      <td>0.2668</td>\n",
       "      <td>2.411</td>\n",
       "      <td>0.0707</td>\n",
       "      <td>26.28</td>\n",
       "      <td>91.61</td>\n",
       "      <td>3.001</td>\n",
       "      <td>113.02</td>\n",
       "      <td>2.503</td>\n",
       "    </tr>\n",
       "    <tr>\n",
       "      <th>4</th>\n",
       "      <td>43088.74</td>\n",
       "      <td>3328.63</td>\n",
       "      <td>0.7796</td>\n",
       "      <td>1.000</td>\n",
       "      <td>494.66</td>\n",
       "      <td>147.74</td>\n",
       "      <td>0.9996</td>\n",
       "      <td>87.30</td>\n",
       "      <td>1.292</td>\n",
       "      <td>93.08</td>\n",
       "      <td>...</td>\n",
       "      <td>0.0</td>\n",
       "      <td>10.020</td>\n",
       "      <td>0.2669</td>\n",
       "      <td>2.452</td>\n",
       "      <td>0.0703</td>\n",
       "      <td>26.68</td>\n",
       "      <td>92.12</td>\n",
       "      <td>3.102</td>\n",
       "      <td>112.63</td>\n",
       "      <td>2.506</td>\n",
       "    </tr>\n",
       "  </tbody>\n",
       "</table>\n",
       "<p>5 rows × 95 columns</p>\n",
       "</div>"
      ],
      "text/plain": [
       "        BTC      ETH     XRP   USDT     BNB     SOL    USDC   LUNA    ADA  \\\n",
       "0  42743.03  3240.32  0.7703  1.001  463.38  140.25  1.0000  73.51  1.188   \n",
       "1  43919.67  3373.03  0.7989  1.000  487.51  151.51  1.0000  81.91  1.312   \n",
       "2  42575.61  3242.26  0.7678  1.000  475.57  146.20  1.0000  78.36  1.233   \n",
       "3  43089.83  3309.66  0.7734  1.001  490.36  146.18  1.0000  81.45  1.293   \n",
       "4  43088.74  3328.63  0.7796  1.000  494.66  147.74  0.9996  87.30  1.292   \n",
       "\n",
       "    AVAX  ...  FXS      HT     CHZ    ENJ   JASMY    ENS    XCH    DFI  \\\n",
       "0  89.64  ...  0.0   9.403  0.2641  2.317  0.0708  26.75  88.52  2.618   \n",
       "1  96.02  ...  0.0   9.509  0.2775  2.521  0.0730  27.99  95.48  2.994   \n",
       "2  89.76  ...  0.0   9.511  0.2637  2.374  0.0695  25.69  92.94  2.971   \n",
       "3  90.40  ...  0.0   9.855  0.2668  2.411  0.0707  26.28  91.61  3.001   \n",
       "4  93.08  ...  0.0  10.020  0.2669  2.452  0.0703  26.68  92.12  3.102   \n",
       "\n",
       "      BSV    ANC  \n",
       "0  110.19  2.592  \n",
       "1  112.83  2.704  \n",
       "2  109.33  2.600  \n",
       "3  113.02  2.503  \n",
       "4  112.63  2.506  \n",
       "\n",
       "[5 rows x 95 columns]"
      ]
     },
     "execution_count": 149,
     "metadata": {},
     "output_type": "execute_result"
    }
   ],
   "source": [
    "# data_day.columns=tickers\n",
    "data_day.head()"
   ]
  },
  {
   "cell_type": "code",
   "execution_count": 150,
   "id": "36018483",
   "metadata": {
    "ExecuteTime": {
     "end_time": "2022-01-24T10:17:10.482135Z",
     "start_time": "2022-01-24T10:17:09.974823Z"
    },
    "scrolled": true
   },
   "outputs": [
    {
     "data": {
      "text/plain": [
       "(31, 95)"
      ]
     },
     "execution_count": 150,
     "metadata": {},
     "output_type": "execute_result"
    }
   ],
   "source": [
    "data_day.shape\n"
   ]
  },
  {
   "cell_type": "code",
   "execution_count": 159,
   "id": "b6954193",
   "metadata": {},
   "outputs": [
    {
     "data": {
      "image/png": "[encoded data removed]",
      "text/plain": [
       "<Figure size 720x360 with 1 Axes>"
      ]
     },
     "metadata": {
      "image/png": {
       "height": 321,
       "width": 595
      }
     },
     "output_type": "display_data"
    }
   ],
   "source": [
    "_ = data_day[\"LUNA\"].plot(color=\"r\", title=\"LUNA daily chart\", figsize=(10,5))"
   ]
  },
  {
   "cell_type": "code",
   "execution_count": 152,
   "id": "7b9c70e0",
   "metadata": {},
   "outputs": [
    {
     "data": {
      "text/html": [
       "<div>\n",
       "<style scoped>\n",
       "    .dataframe tbody tr th:only-of-type {\n",
       "        vertical-align: middle;\n",
       "    }\n",
       "\n",
       "    .dataframe tbody tr th {\n",
       "        vertical-align: top;\n",
       "    }\n",
       "\n",
       "    .dataframe thead th {\n",
       "        text-align: right;\n",
       "    }\n",
       "</style>\n",
       "<table border=\"1\" class=\"dataframe\">\n",
       "  <thead>\n",
       "    <tr style=\"text-align: right;\">\n",
       "      <th></th>\n",
       "      <th>BTC</th>\n",
       "      <th>ETH</th>\n",
       "      <th>XRP</th>\n",
       "      <th>USDT</th>\n",
       "      <th>BNB</th>\n",
       "      <th>SOL</th>\n",
       "      <th>USDC</th>\n",
       "      <th>LUNA</th>\n",
       "      <th>ADA</th>\n",
       "      <th>AVAX</th>\n",
       "      <th>...</th>\n",
       "      <th>FXS</th>\n",
       "      <th>HT</th>\n",
       "      <th>CHZ</th>\n",
       "      <th>ENJ</th>\n",
       "      <th>JASMY</th>\n",
       "      <th>ENS</th>\n",
       "      <th>XCH</th>\n",
       "      <th>DFI</th>\n",
       "      <th>BSV</th>\n",
       "      <th>ANC</th>\n",
       "    </tr>\n",
       "  </thead>\n",
       "  <tbody>\n",
       "    <tr>\n",
       "      <th>0</th>\n",
       "      <td>44093.55</td>\n",
       "      <td>3153.03</td>\n",
       "      <td>0.8012</td>\n",
       "      <td>1.001</td>\n",
       "      <td>435.07</td>\n",
       "      <td>117.99</td>\n",
       "      <td>1.0000</td>\n",
       "      <td>59.26</td>\n",
       "      <td>1.188</td>\n",
       "      <td>83.51</td>\n",
       "      <td>...</td>\n",
       "      <td>21.16</td>\n",
       "      <td>10.11</td>\n",
       "      <td>0.2338</td>\n",
       "      <td>2.121</td>\n",
       "      <td>0.0418</td>\n",
       "      <td>21.56</td>\n",
       "      <td>79.99</td>\n",
       "      <td>3.308</td>\n",
       "      <td>102.68</td>\n",
       "      <td>1.578</td>\n",
       "    </tr>\n",
       "    <tr>\n",
       "      <th>1</th>\n",
       "      <td>44104.37</td>\n",
       "      <td>3154.29</td>\n",
       "      <td>0.8265</td>\n",
       "      <td>1.001</td>\n",
       "      <td>434.96</td>\n",
       "      <td>118.10</td>\n",
       "      <td>0.9999</td>\n",
       "      <td>60.39</td>\n",
       "      <td>1.204</td>\n",
       "      <td>83.64</td>\n",
       "      <td>...</td>\n",
       "      <td>21.51</td>\n",
       "      <td>10.16</td>\n",
       "      <td>0.2347</td>\n",
       "      <td>2.127</td>\n",
       "      <td>0.0417</td>\n",
       "      <td>21.92</td>\n",
       "      <td>80.23</td>\n",
       "      <td>3.326</td>\n",
       "      <td>103.03</td>\n",
       "      <td>1.592</td>\n",
       "    </tr>\n",
       "    <tr>\n",
       "      <th>2</th>\n",
       "      <td>43861.07</td>\n",
       "      <td>3141.38</td>\n",
       "      <td>0.8318</td>\n",
       "      <td>1.001</td>\n",
       "      <td>433.75</td>\n",
       "      <td>117.57</td>\n",
       "      <td>1.0000</td>\n",
       "      <td>59.51</td>\n",
       "      <td>1.199</td>\n",
       "      <td>83.18</td>\n",
       "      <td>...</td>\n",
       "      <td>21.16</td>\n",
       "      <td>10.09</td>\n",
       "      <td>0.2337</td>\n",
       "      <td>2.090</td>\n",
       "      <td>0.0411</td>\n",
       "      <td>21.81</td>\n",
       "      <td>80.49</td>\n",
       "      <td>3.338</td>\n",
       "      <td>102.15</td>\n",
       "      <td>1.604</td>\n",
       "    </tr>\n",
       "    <tr>\n",
       "      <th>3</th>\n",
       "      <td>43886.13</td>\n",
       "      <td>3132.57</td>\n",
       "      <td>0.8260</td>\n",
       "      <td>1.001</td>\n",
       "      <td>433.08</td>\n",
       "      <td>117.11</td>\n",
       "      <td>1.0000</td>\n",
       "      <td>58.84</td>\n",
       "      <td>1.237</td>\n",
       "      <td>82.59</td>\n",
       "      <td>...</td>\n",
       "      <td>21.24</td>\n",
       "      <td>10.02</td>\n",
       "      <td>0.2326</td>\n",
       "      <td>2.085</td>\n",
       "      <td>0.0412</td>\n",
       "      <td>21.81</td>\n",
       "      <td>80.05</td>\n",
       "      <td>3.357</td>\n",
       "      <td>103.04</td>\n",
       "      <td>1.603</td>\n",
       "    </tr>\n",
       "    <tr>\n",
       "      <th>4</th>\n",
       "      <td>44081.16</td>\n",
       "      <td>3154.16</td>\n",
       "      <td>0.8684</td>\n",
       "      <td>1.001</td>\n",
       "      <td>435.15</td>\n",
       "      <td>118.78</td>\n",
       "      <td>1.0000</td>\n",
       "      <td>59.67</td>\n",
       "      <td>1.251</td>\n",
       "      <td>83.36</td>\n",
       "      <td>...</td>\n",
       "      <td>21.47</td>\n",
       "      <td>10.02</td>\n",
       "      <td>0.2355</td>\n",
       "      <td>2.127</td>\n",
       "      <td>0.0416</td>\n",
       "      <td>22.75</td>\n",
       "      <td>80.62</td>\n",
       "      <td>3.411</td>\n",
       "      <td>104.23</td>\n",
       "      <td>1.627</td>\n",
       "    </tr>\n",
       "  </tbody>\n",
       "</table>\n",
       "<p>5 rows × 95 columns</p>\n",
       "</div>"
      ],
      "text/plain": [
       "        BTC      ETH     XRP   USDT     BNB     SOL    USDC   LUNA    ADA  \\\n",
       "0  44093.55  3153.03  0.8012  1.001  435.07  117.99  1.0000  59.26  1.188   \n",
       "1  44104.37  3154.29  0.8265  1.001  434.96  118.10  0.9999  60.39  1.204   \n",
       "2  43861.07  3141.38  0.8318  1.001  433.75  117.57  1.0000  59.51  1.199   \n",
       "3  43886.13  3132.57  0.8260  1.001  433.08  117.11  1.0000  58.84  1.237   \n",
       "4  44081.16  3154.16  0.8684  1.001  435.15  118.78  1.0000  59.67  1.251   \n",
       "\n",
       "    AVAX  ...    FXS     HT     CHZ    ENJ   JASMY    ENS    XCH    DFI  \\\n",
       "0  83.51  ...  21.16  10.11  0.2338  2.121  0.0418  21.56  79.99  3.308   \n",
       "1  83.64  ...  21.51  10.16  0.2347  2.127  0.0417  21.92  80.23  3.326   \n",
       "2  83.18  ...  21.16  10.09  0.2337  2.090  0.0411  21.81  80.49  3.338   \n",
       "3  82.59  ...  21.24  10.02  0.2326  2.085  0.0412  21.81  80.05  3.357   \n",
       "4  83.36  ...  21.47  10.02  0.2355  2.127  0.0416  22.75  80.62  3.411   \n",
       "\n",
       "      BSV    ANC  \n",
       "0  102.68  1.578  \n",
       "1  103.03  1.592  \n",
       "2  102.15  1.604  \n",
       "3  103.04  1.603  \n",
       "4  104.23  1.627  \n",
       "\n",
       "[5 rows x 95 columns]"
      ]
     },
     "execution_count": 152,
     "metadata": {},
     "output_type": "execute_result"
    }
   ],
   "source": [
    "data_hour.head()"
   ]
  },
  {
   "cell_type": "code",
   "execution_count": 153,
   "id": "e0a0e33e",
   "metadata": {},
   "outputs": [
    {
     "data": {
      "text/plain": [
       "(73, 95)"
      ]
     },
     "execution_count": 153,
     "metadata": {},
     "output_type": "execute_result"
    }
   ],
   "source": [
    "data_hour.shape"
   ]
  },
  {
   "cell_type": "code",
   "execution_count": 158,
   "id": "f331c92b",
   "metadata": {},
   "outputs": [
    {
     "data": {
      "image/png": "[encoded data removed]",
      "text/plain": [
       "<Figure size 720x360 with 1 Axes>"
      ]
     },
     "metadata": {
      "image/png": {
       "height": 321,
       "width": 609
      }
     },
     "output_type": "display_data"
    }
   ],
   "source": [
    "_ = data_hour[\"ETH\"].plot(color=\"g\", title=\"ETH one hour chart\", figsize=(10,5))"
   ]
  },
  {
   "cell_type": "code",
   "execution_count": 155,
   "id": "a0030763",
   "metadata": {},
   "outputs": [
    {
     "data": {
      "text/html": [
       "<div>\n",
       "<style scoped>\n",
       "    .dataframe tbody tr th:only-of-type {\n",
       "        vertical-align: middle;\n",
       "    }\n",
       "\n",
       "    .dataframe tbody tr th {\n",
       "        vertical-align: top;\n",
       "    }\n",
       "\n",
       "    .dataframe thead th {\n",
       "        text-align: right;\n",
       "    }\n",
       "</style>\n",
       "<table border=\"1\" class=\"dataframe\">\n",
       "  <thead>\n",
       "    <tr style=\"text-align: right;\">\n",
       "      <th></th>\n",
       "      <th>BTC</th>\n",
       "      <th>ETH</th>\n",
       "      <th>XRP</th>\n",
       "      <th>USDT</th>\n",
       "      <th>BNB</th>\n",
       "      <th>SOL</th>\n",
       "      <th>USDC</th>\n",
       "      <th>LUNA</th>\n",
       "      <th>ADA</th>\n",
       "      <th>AVAX</th>\n",
       "      <th>...</th>\n",
       "      <th>FXS</th>\n",
       "      <th>HT</th>\n",
       "      <th>CHZ</th>\n",
       "      <th>ENJ</th>\n",
       "      <th>JASMY</th>\n",
       "      <th>ENS</th>\n",
       "      <th>XCH</th>\n",
       "      <th>DFI</th>\n",
       "      <th>BSV</th>\n",
       "      <th>ANC</th>\n",
       "    </tr>\n",
       "  </thead>\n",
       "  <tbody>\n",
       "    <tr>\n",
       "      <th>0</th>\n",
       "      <td>44571.95</td>\n",
       "      <td>3132.77</td>\n",
       "      <td>0.8549</td>\n",
       "      <td>1.001</td>\n",
       "      <td>422.01</td>\n",
       "      <td>109.21</td>\n",
       "      <td>1.0000</td>\n",
       "      <td>53.99</td>\n",
       "      <td>1.172</td>\n",
       "      <td>91.91</td>\n",
       "      <td>...</td>\n",
       "      <td>21.08</td>\n",
       "      <td>10.02</td>\n",
       "      <td>0.2314</td>\n",
       "      <td>2.032</td>\n",
       "      <td>0.0401</td>\n",
       "      <td>19.35</td>\n",
       "      <td>82.77</td>\n",
       "      <td>3.671</td>\n",
       "      <td>99.84</td>\n",
       "      <td>1.811</td>\n",
       "    </tr>\n",
       "    <tr>\n",
       "      <th>1</th>\n",
       "      <td>44618.14</td>\n",
       "      <td>3136.05</td>\n",
       "      <td>0.8554</td>\n",
       "      <td>1.001</td>\n",
       "      <td>422.12</td>\n",
       "      <td>109.35</td>\n",
       "      <td>1.0000</td>\n",
       "      <td>54.03</td>\n",
       "      <td>1.173</td>\n",
       "      <td>91.98</td>\n",
       "      <td>...</td>\n",
       "      <td>21.10</td>\n",
       "      <td>10.03</td>\n",
       "      <td>0.2315</td>\n",
       "      <td>2.033</td>\n",
       "      <td>0.0401</td>\n",
       "      <td>19.37</td>\n",
       "      <td>82.86</td>\n",
       "      <td>3.675</td>\n",
       "      <td>99.94</td>\n",
       "      <td>1.814</td>\n",
       "    </tr>\n",
       "    <tr>\n",
       "      <th>2</th>\n",
       "      <td>44580.50</td>\n",
       "      <td>3133.94</td>\n",
       "      <td>0.8546</td>\n",
       "      <td>1.001</td>\n",
       "      <td>421.80</td>\n",
       "      <td>109.16</td>\n",
       "      <td>0.9999</td>\n",
       "      <td>53.90</td>\n",
       "      <td>1.172</td>\n",
       "      <td>91.70</td>\n",
       "      <td>...</td>\n",
       "      <td>20.96</td>\n",
       "      <td>10.01</td>\n",
       "      <td>0.2315</td>\n",
       "      <td>2.033</td>\n",
       "      <td>0.0399</td>\n",
       "      <td>19.34</td>\n",
       "      <td>82.61</td>\n",
       "      <td>3.672</td>\n",
       "      <td>99.86</td>\n",
       "      <td>1.815</td>\n",
       "    </tr>\n",
       "    <tr>\n",
       "      <th>3</th>\n",
       "      <td>44559.75</td>\n",
       "      <td>3135.46</td>\n",
       "      <td>0.8547</td>\n",
       "      <td>1.001</td>\n",
       "      <td>421.87</td>\n",
       "      <td>109.14</td>\n",
       "      <td>1.0000</td>\n",
       "      <td>53.78</td>\n",
       "      <td>1.171</td>\n",
       "      <td>91.76</td>\n",
       "      <td>...</td>\n",
       "      <td>21.08</td>\n",
       "      <td>10.00</td>\n",
       "      <td>0.2310</td>\n",
       "      <td>2.032</td>\n",
       "      <td>0.0401</td>\n",
       "      <td>19.34</td>\n",
       "      <td>82.66</td>\n",
       "      <td>3.670</td>\n",
       "      <td>99.72</td>\n",
       "      <td>1.812</td>\n",
       "    </tr>\n",
       "    <tr>\n",
       "      <th>4</th>\n",
       "      <td>44568.13</td>\n",
       "      <td>3137.96</td>\n",
       "      <td>0.8540</td>\n",
       "      <td>1.001</td>\n",
       "      <td>421.83</td>\n",
       "      <td>109.28</td>\n",
       "      <td>1.0010</td>\n",
       "      <td>53.89</td>\n",
       "      <td>1.172</td>\n",
       "      <td>91.93</td>\n",
       "      <td>...</td>\n",
       "      <td>20.95</td>\n",
       "      <td>10.03</td>\n",
       "      <td>0.2312</td>\n",
       "      <td>2.038</td>\n",
       "      <td>0.0399</td>\n",
       "      <td>19.31</td>\n",
       "      <td>82.67</td>\n",
       "      <td>3.665</td>\n",
       "      <td>99.74</td>\n",
       "      <td>1.815</td>\n",
       "    </tr>\n",
       "  </tbody>\n",
       "</table>\n",
       "<p>5 rows × 95 columns</p>\n",
       "</div>"
      ],
      "text/plain": [
       "        BTC      ETH     XRP   USDT     BNB     SOL    USDC   LUNA    ADA  \\\n",
       "0  44571.95  3132.77  0.8549  1.001  422.01  109.21  1.0000  53.99  1.172   \n",
       "1  44618.14  3136.05  0.8554  1.001  422.12  109.35  1.0000  54.03  1.173   \n",
       "2  44580.50  3133.94  0.8546  1.001  421.80  109.16  0.9999  53.90  1.172   \n",
       "3  44559.75  3135.46  0.8547  1.001  421.87  109.14  1.0000  53.78  1.171   \n",
       "4  44568.13  3137.96  0.8540  1.001  421.83  109.28  1.0010  53.89  1.172   \n",
       "\n",
       "    AVAX  ...    FXS     HT     CHZ    ENJ   JASMY    ENS    XCH    DFI  \\\n",
       "0  91.91  ...  21.08  10.02  0.2314  2.032  0.0401  19.35  82.77  3.671   \n",
       "1  91.98  ...  21.10  10.03  0.2315  2.033  0.0401  19.37  82.86  3.675   \n",
       "2  91.70  ...  20.96  10.01  0.2315  2.033  0.0399  19.34  82.61  3.672   \n",
       "3  91.76  ...  21.08  10.00  0.2310  2.032  0.0401  19.34  82.66  3.670   \n",
       "4  91.93  ...  20.95  10.03  0.2312  2.038  0.0399  19.31  82.67  3.665   \n",
       "\n",
       "     BSV    ANC  \n",
       "0  99.84  1.811  \n",
       "1  99.94  1.814  \n",
       "2  99.86  1.815  \n",
       "3  99.72  1.812  \n",
       "4  99.74  1.815  \n",
       "\n",
       "[5 rows x 95 columns]"
      ]
     },
     "execution_count": 155,
     "metadata": {},
     "output_type": "execute_result"
    }
   ],
   "source": [
    "data_minute.head()"
   ]
  },
  {
   "cell_type": "code",
   "execution_count": 156,
   "id": "93bc45d2",
   "metadata": {},
   "outputs": [
    {
     "data": {
      "text/plain": [
       "(61, 95)"
      ]
     },
     "execution_count": 156,
     "metadata": {},
     "output_type": "execute_result"
    }
   ],
   "source": [
    "data_minute.shape"
   ]
  },
  {
   "cell_type": "code",
   "execution_count": 157,
   "id": "69945bfd",
   "metadata": {},
   "outputs": [
    {
     "data": {
      "image/png": "[encoded data removed]",
      "text/plain": [
       "<Figure size 720x360 with 1 Axes>"
      ]
     },
     "metadata": {
      "image/png": {
       "height": 305,
       "width": 613
      }
     },
     "output_type": "display_data"
    }
   ],
   "source": [
    "_ = data_minute[\"UNI\"].plot(color=\"b\", title=\"UNI one minute chart\", figsize=(10,5))"
   ]
  },
  {
   "cell_type": "markdown",
   "id": "67031158",
   "metadata": {},
   "source": [
    "#### Save data to pickles"
   ]
  },
  {
   "cell_type": "code",
   "execution_count": 136,
   "id": "7abc8a7e",
   "metadata": {},
   "outputs": [],
   "source": [
    "# with open(\"../data/data_minute.pickle\",\"wb\") as f:\n",
    "#             pickle.dump(data_minute, f)"
   ]
  },
  {
   "cell_type": "code",
   "execution_count": 137,
   "id": "c398fd8b",
   "metadata": {},
   "outputs": [],
   "source": [
    "# with open(\"../data/data_hour.pickle\",\"wb\") as f:\n",
    "#             pickle.dump(data_hour, f)"
   ]
  },
  {
   "cell_type": "code",
   "execution_count": 138,
   "id": "fea840f0",
   "metadata": {},
   "outputs": [],
   "source": [
    "# with open(\"../data/data_day.pickle\",\"wb\") as f:\n",
    "#             pickle.dump(data_day, f)"
   ]
  },
  {
   "cell_type": "markdown",
   "id": "99a91406",
   "metadata": {},
   "source": [
    "#### Check Google Drive data status"
   ]
  },
  {
   "cell_type": "code",
   "execution_count": 160,
   "id": "5e8e36be",
   "metadata": {},
   "outputs": [
    {
     "data": {
      "text/plain": [
       "302"
      ]
     },
     "execution_count": 160,
     "metadata": {},
     "output_type": "execute_result"
    }
   ],
   "source": [
    "url = \"https://drive.google.com/uc?export=download&id=1XCOhxPfRDp6SxMyPwPO1nse3MI2vOFvP\"\n",
    "headers = { 'User-Agent': 'Mozilla/5.0 (Windows NT 6.1; WOW64) AppleWebKit/537.36 (KHTML, like Gecko) Chrome/32.0.1700.107 Safari/537.36' }\n",
    "requests.head(url, headers=headers).status_code"
   ]
  },
  {
   "cell_type": "markdown",
   "id": "4391a57a",
   "metadata": {},
   "source": [
    "### Take part of data"
   ]
  },
  {
   "cell_type": "code",
   "execution_count": null,
   "id": "eb7afcb7",
   "metadata": {
    "ExecuteTime": {
     "end_time": "2022-01-24T10:17:10.539922Z",
     "start_time": "2022-01-24T10:17:10.483088Z"
    }
   },
   "outputs": [],
   "source": [
    "rand_part = 0.2 # for testing of computationally expensive parts\n",
    "partial = 0 # for rapid tests set to 1 and possibly change rand_part ratio above\n",
    "\n",
    "# Randomly select rand_part of rows\n",
    "part = sorted(random.choices(range(df.shape[0]), k=int(df.shape[0]*rand_part)))\n",
    "if partial == 0:\n",
    "    X, y = df.iloc[:,:-1], df.iloc[:,-1]\n",
    "else:\n",
    "    X, y = df.iloc[part,:-1], df.iloc[part,-1]\n",
    "# df.shape\n",
    "X.shape, y.shape"
   ]
  },
  {
   "cell_type": "markdown",
   "id": "6e88cf28",
   "metadata": {},
   "source": [
    "### Instantiate ATOM"
   ]
  },
  {
   "cell_type": "code",
   "execution_count": null,
   "id": "1d9bf404",
   "metadata": {
    "ExecuteTime": {
     "end_time": "2022-01-24T10:17:10.608177Z",
     "start_time": "2022-01-24T10:17:10.540871Z"
    }
   },
   "outputs": [],
   "source": [
    "atom = ATOMClassifier(X, y, test_size=0.25, n_jobs=n_jobs, \n",
    "                      verbose=1, warnings=False, random_state=random_state)\n",
    "atom.title_fontsize = 17"
   ]
  },
  {
   "cell_type": "markdown",
   "id": "0d629ecb",
   "metadata": {},
   "source": [
    "### Preprocessing (minimal)"
   ]
  },
  {
   "cell_type": "code",
   "execution_count": null,
   "id": "bb56cd7e",
   "metadata": {
    "ExecuteTime": {
     "end_time": "2022-01-24T10:17:11.108623Z",
     "start_time": "2022-01-24T10:17:10.638200Z"
    }
   },
   "outputs": [],
   "source": [
    "atom.impute()\n",
    "atom.clean(drop_min_cardinality=False)\n",
    "atom.encode()\n",
    "# atom.add(StandardScaler())\n",
    "atom.add(RobustScaler())\n",
    "# atom.gauss()"
   ]
  },
  {
   "cell_type": "markdown",
   "id": "181a9c72",
   "metadata": {},
   "source": [
    "### Baseline model - LogisticRegression  \n",
    "### OOB models - RandomForest and LightGBM"
   ]
  },
  {
   "cell_type": "markdown",
   "id": "d60abcee",
   "metadata": {},
   "source": [
    "To put comptitors on the level ground, we will apply Bayesian H/P optimization to OOB models"
   ]
  },
  {
   "cell_type": "code",
   "execution_count": null,
   "id": "a7083319",
   "metadata": {},
   "outputs": [],
   "source": [
    "atom.branch = \"baseline_and_oob\"\n",
    "# Fit the models to the data with Bayesian optimisation\n",
    "atom.run(\n",
    "    models=models,\n",
    "    metric=metric,\n",
    "    n_calls=n_calls,\n",
    "    n_initial_points=n_initial_points,\n",
    "    n_bootstrap=5\n",
    ")"
   ]
  },
  {
   "cell_type": "code",
   "execution_count": null,
   "id": "0e2677c3",
   "metadata": {},
   "outputs": [],
   "source": [
    "atom.branch.status()"
   ]
  },
  {
   "cell_type": "code",
   "execution_count": null,
   "id": "decc765d",
   "metadata": {},
   "outputs": [],
   "source": [
    "atom.plot_results(title=\"Logistic Regression, RandomForest, LightGBM\", figsize=(10,5))"
   ]
  },
  {
   "cell_type": "code",
   "execution_count": null,
   "id": "b46f4516",
   "metadata": {},
   "outputs": [],
   "source": [
    "with atom.canvas(1, 3, title=\"Confusion matrices of Baseline and OOB models\", figsize =(15,4.5)):\n",
    "    atom.lr0.plot_confusion_matrix(dataset=\"test\", normalize=True, title=f\"LR\") \n",
    "    atom.rf0.plot_confusion_matrix(dataset=\"test\", normalize=True, title=f\"RF\")\n",
    "    atom.lgb0.plot_confusion_matrix(dataset=\"test\", normalize=True, title=f\"LightGBM\")"
   ]
  },
  {
   "cell_type": "code",
   "execution_count": null,
   "id": "30425a37",
   "metadata": {},
   "outputs": [],
   "source": [
    "nice_metric_table(atom.results, metric=metric).style.highlight_max(props='color:orange', axis=0)"
   ]
  },
  {
   "cell_type": "code",
   "execution_count": null,
   "id": "6f9ce8c0",
   "metadata": {},
   "outputs": [],
   "source": [
    "atom.plot_bo(title=\"BO scores\", figsize=(10,5))"
   ]
  },
  {
   "cell_type": "code",
   "execution_count": null,
   "id": "abd57e22",
   "metadata": {},
   "outputs": [],
   "source": [
    "with atom.canvas(1, 2, title=\"LightGBM evaluation curves\\non train and test\"):    \n",
    "    atom.lgb0.plot_evals(dataset=\"train\", figsize=(5,5))\n",
    "    atom.lgb0.plot_evals(dataset=\"test\", figsize=(5,5))"
   ]
  },
  {
   "cell_type": "markdown",
   "id": "781c6c14",
   "metadata": {},
   "source": [
    "### Feature engineering for AutoML"
   ]
  },
  {
   "cell_type": "markdown",
   "id": "46cf9e7e",
   "metadata": {},
   "source": [
    "#### Run DFS"
   ]
  },
  {
   "cell_type": "code",
   "execution_count": null,
   "id": "5507120e",
   "metadata": {
    "ExecuteTime": {
     "end_time": "2022-01-24T10:17:21.317208Z",
     "start_time": "2022-01-24T10:17:11.109796Z"
    }
   },
   "outputs": [],
   "source": [
    "atom.verbose = 2\n",
    "atom.branch = \"auto_from_master\"\n",
    "atom.feature_generation(\"dfs\", \n",
    "                        n_features=n_features_dfs, \n",
    "                        operators=[\"add\", \"sub\", \"mul\"], #, \"div\"\n",
    "                        n_jobs = n_jobs,\n",
    "                        verbose=0,\n",
    "                        random_state=random_state)"
   ]
  },
  {
   "cell_type": "markdown",
   "id": "26c5cdd5",
   "metadata": {},
   "source": [
    "#### Make post-DFS feature selection"
   ]
  },
  {
   "cell_type": "code",
   "execution_count": null,
   "id": "2e0f4099",
   "metadata": {
    "ExecuteTime": {
     "end_time": "2022-01-24T10:18:08.062974Z",
     "start_time": "2022-01-24T10:17:21.318506Z"
    },
    "scrolled": true
   },
   "outputs": [],
   "source": [
    "atom.feature_selection(\n",
    "    strategy=\"RFECV\",\n",
    "    solver=\"RF\",\n",
    "    n_features=n_features_rfecv,\n",
    "    scoring=\"F1_weighted\",\n",
    "    max_correlation=0.98,\n",
    "    random_state=random_state,\n",
    "    n_jobs=n_jobs\n",
    ")"
   ]
  },
  {
   "cell_type": "code",
   "execution_count": null,
   "id": "9283d159",
   "metadata": {
    "ExecuteTime": {
     "end_time": "2022-01-24T10:18:09.603392Z",
     "start_time": "2022-01-24T10:18:08.064019Z"
    },
    "jupyter": {
     "source_hidden": true
    },
    "tags": []
   },
   "outputs": [],
   "source": [
    "atom.plot_rfecv(title=\"Score per number of features - DFS\", figsize=(10,5))"
   ]
  },
  {
   "cell_type": "markdown",
   "id": "90363d55",
   "metadata": {},
   "source": [
    "Dataset with new DFS features"
   ]
  },
  {
   "cell_type": "code",
   "execution_count": null,
   "id": "1e82efda",
   "metadata": {
    "ExecuteTime": {
     "end_time": "2022-01-24T10:18:09.618441Z",
     "start_time": "2022-01-24T10:18:09.604240Z"
    }
   },
   "outputs": [],
   "source": [
    "atom.X.head()"
   ]
  },
  {
   "cell_type": "code",
   "execution_count": null,
   "id": "895ec10f",
   "metadata": {
    "ExecuteTime": {
     "end_time": "2022-01-24T10:20:47.244883Z",
     "start_time": "2022-01-24T10:20:47.241312Z"
    }
   },
   "outputs": [],
   "source": [
    "atom.X.shape"
   ]
  },
  {
   "cell_type": "code",
   "execution_count": null,
   "id": "6ab1be0b",
   "metadata": {
    "ExecuteTime": {
     "end_time": "2022-01-24T10:20:47.364348Z",
     "start_time": "2022-01-24T10:20:47.245731Z"
    }
   },
   "outputs": [],
   "source": [
    "# The collinear attribute shows what features were removed due to multicollinearity\n",
    "atom.collinear"
   ]
  },
  {
   "cell_type": "code",
   "execution_count": null,
   "id": "3ea83d7d",
   "metadata": {},
   "outputs": [],
   "source": [
    "print(f\"New dataset has {atom.X.shape[1]} features\")"
   ]
  },
  {
   "cell_type": "markdown",
   "id": "8bc33d5b",
   "metadata": {},
   "source": [
    "### Create AutoML model with DFS"
   ]
  },
  {
   "cell_type": "code",
   "execution_count": null,
   "id": "e1acb2eb",
   "metadata": {
    "ExecuteTime": {
     "end_time": "2022-01-24T10:31:33.443283Z",
     "start_time": "2022-01-24T10:20:47.632290Z"
    }
   },
   "outputs": [],
   "source": [
    "# atom.branch = \"auto_ml\""
   ]
  },
  {
   "cell_type": "code",
   "execution_count": null,
   "id": "29846ac3",
   "metadata": {
    "ExecuteTime": {
     "end_time": "2022-01-24T10:31:33.443283Z",
     "start_time": "2022-01-24T10:20:47.632290Z"
    }
   },
   "outputs": [],
   "source": [
    "atom.verbose=2\n",
    "atom.automl(\n",
    "            max_time_mins=360,\n",
    "            template=\"Transformer-Transformer-Classifier\",\n",
    "            early_stop = 2,\n",
    "            cv=5,\n",
    "            n_jobs=n_jobs,\n",
    "            random_state = random_state\n",
    ")"
   ]
  },
  {
   "cell_type": "markdown",
   "id": "9835b628",
   "metadata": {},
   "source": [
    "### Final model"
   ]
  },
  {
   "cell_type": "markdown",
   "id": "0cb15a18",
   "metadata": {},
   "source": [
    "#### TPOT configuration"
   ]
  },
  {
   "cell_type": "code",
   "execution_count": null,
   "id": "bb4bb7b8",
   "metadata": {},
   "outputs": [],
   "source": [
    "atom.tpot"
   ]
  },
  {
   "cell_type": "code",
   "execution_count": null,
   "id": "c7eb2675",
   "metadata": {
    "ExecuteTime": {
     "end_time": "2022-01-24T10:31:33.449621Z",
     "start_time": "2022-01-24T10:31:33.449611Z"
    }
   },
   "outputs": [],
   "source": [
    "atom.tpot.get_params()"
   ]
  },
  {
   "cell_type": "markdown",
   "id": "3d3f00f9",
   "metadata": {},
   "source": [
    "#### Best Pipeline"
   ]
  },
  {
   "cell_type": "code",
   "execution_count": null,
   "id": "c172d6d2",
   "metadata": {},
   "outputs": [],
   "source": [
    "atom.winner"
   ]
  },
  {
   "cell_type": "markdown",
   "id": "4113981d",
   "metadata": {},
   "source": [
    "#### Resulting pipeline"
   ]
  },
  {
   "cell_type": "code",
   "execution_count": null,
   "id": "024da901",
   "metadata": {},
   "outputs": [],
   "source": [
    "atom.tpot.fitted_pipeline_"
   ]
  },
  {
   "cell_type": "markdown",
   "id": "972f1910",
   "metadata": {},
   "source": [
    "####  Export pipeline to sklearn format"
   ]
  },
  {
   "cell_type": "code",
   "execution_count": null,
   "id": "1246cae3",
   "metadata": {},
   "outputs": [],
   "source": [
    "pl = atom.export_pipeline(model=\"rf\")\n",
    "print(pl)"
   ]
  },
  {
   "cell_type": "code",
   "execution_count": null,
   "id": "edc3e0f9",
   "metadata": {},
   "outputs": [],
   "source": [
    "atom.models"
   ]
  },
  {
   "cell_type": "code",
   "execution_count": null,
   "id": "fde1af4b",
   "metadata": {},
   "outputs": [],
   "source": [
    "atom.status()"
   ]
  },
  {
   "cell_type": "markdown",
   "id": "fc65a27c",
   "metadata": {},
   "source": [
    "#### AutoML pipeline scores"
   ]
  },
  {
   "cell_type": "code",
   "execution_count": null,
   "id": "803625a5",
   "metadata": {
    "ExecuteTime": {
     "end_time": "2022-01-24T10:31:33.444464Z",
     "start_time": "2022-01-24T10:31:33.444454Z"
    }
   },
   "outputs": [],
   "source": [
    "score = atom.rf.score(X, y)\n",
    "print(f\"\\nScore on all data: {score:.4f}\")"
   ]
  },
  {
   "cell_type": "code",
   "execution_count": null,
   "id": "ff183073",
   "metadata": {},
   "outputs": [],
   "source": [
    "atom.rf.plot_confusion_matrix(dataset=\"test\", normalize=True, title=f\"Confusion matrix for AutoML model\", figsize=(8,5)) "
   ]
  },
  {
   "cell_type": "markdown",
   "id": "018fa0f5",
   "metadata": {},
   "source": [
    "### Compare models results"
   ]
  },
  {
   "cell_type": "code",
   "execution_count": null,
   "id": "8c811cdf",
   "metadata": {
    "ExecuteTime": {
     "end_time": "2022-01-24T10:46:36.333734Z",
     "start_time": "2022-01-24T10:46:36.326953Z"
    }
   },
   "outputs": [],
   "source": [
    "atom.plot_results(title=\"ATOM autoML vs Baseline and OOB\", figsize=(10,5))"
   ]
  },
  {
   "cell_type": "code",
   "execution_count": null,
   "id": "4159b345",
   "metadata": {
    "ExecuteTime": {
     "end_time": "2022-01-24T10:31:33.455903Z",
     "start_time": "2022-01-24T10:31:33.455889Z"
    }
   },
   "outputs": [],
   "source": [
    "nice_metric_table(atom.results, metric=metric).style.highlight_max(props='color:orange', axis=0)"
   ]
  },
  {
   "cell_type": "markdown",
   "id": "4e9eaa7d",
   "metadata": {},
   "source": [
    "#### Make predictions - see pipeline in action"
   ]
  },
  {
   "cell_type": "code",
   "execution_count": null,
   "id": "74eb1ecc",
   "metadata": {},
   "outputs": [],
   "source": [
    "atom.rf.predict(X)"
   ]
  },
  {
   "cell_type": "markdown",
   "id": "d901719a-3061-4e3f-b77d-d8c661958c7f",
   "metadata": {
    "ExecuteTime": {
     "end_time": "2022-01-04T17:12:51.226423Z",
     "start_time": "2022-01-04T17:12:51.216303Z"
    }
   },
   "source": [
    "### Conclusion"
   ]
  },
  {
   "cell_type": "markdown",
   "id": "0598b35c",
   "metadata": {
    "ExecuteTime": {
     "end_time": "2022-01-24T10:31:33.458994Z",
     "start_time": "2022-01-24T10:31:33.458984Z"
    }
   },
   "source": [
    "It took several hours and many TPOT generations to obtain an AutoML model that beats the best H/P-tuned OOB model (LGB in this case) in 3 out of 4 metrics. The winner takes it all, but TPOT is not a miracle, model generation takes a lot of time."
   ]
  }
 ],
 "metadata": {
  "kernelspec": {
   "display_name": "Python 3 (ipykernel)",
   "language": "python",
   "name": "python3"
  },
  "language_info": {
   "codemirror_mode": {
    "name": "ipython",
    "version": 3
   },
   "file_extension": ".py",
   "mimetype": "text/x-python",
   "name": "python",
   "nbconvert_exporter": "python",
   "pygments_lexer": "ipython3",
   "version": "3.8.12"
  },
  "toc": {
   "base_numbering": 1,
   "nav_menu": {},
   "number_sections": true,
   "sideBar": true,
   "skip_h1_title": true,
   "title_cell": "Table of Contents",
   "title_sidebar": "Contents",
   "toc_cell": false,
   "toc_position": {
    "height": "calc(100% - 180px)",
    "left": "10px",
    "top": "150px",
    "width": "322.422px"
   },
   "toc_section_display": true,
   "toc_window_display": true
  }
 },
 "nbformat": 4,
 "nbformat_minor": 5
}
